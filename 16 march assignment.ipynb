{
 "cells": [
  {
   "cell_type": "code",
   "execution_count": null,
   "id": "b8ff8f62-0492-4e4d-8849-35b1f2c0c0b5",
   "metadata": {},
   "outputs": [],
   "source": [
    "Q1(Ans)\n",
    "Overfitting\n",
    "Overfitting occurs when our machine learning model tries to cover all the data points or more than the required data points present in the given dataset. \n",
    "Because of this, the model starts caching noise and inaccurate values present in the dataset, and all these factors reduce the efficiency and accuracy of the model.\n",
    "The overfitted model has low bias and high variance.\n",
    "\n",
    "why does overfitting occurs?\n",
    "• The training data contains large amounts of irrelevant information, called noisy data.\n",
    "• The model trains for too long on a single sample set of data.\n",
    "• The model complexity is high, so it learns the noise within the training data.\n",
    "\n",
    "Underfitting\n",
    "Underfitting occurs when our machine learning model is not able to capture the underlying trend of the data. \n",
    "To avoid the overfitting in the model, the fed of training data can be stopped at an early stage, due to which the model may not learn enough from the training data. \n",
    "As a result, it may fail to find the best fit of the dominant trend in the data.\n",
    "\n",
    "why does underfitting occurs?\n",
    "* when a model is too simple\n",
    "* more input features,"
   ]
  },
  {
   "cell_type": "code",
   "execution_count": null,
   "id": "7f5df83f-036d-4f4d-8c28-94828d62b955",
   "metadata": {},
   "outputs": [],
   "source": [
    "Q2(Ans)\n",
    "There are some ways by which we can reduce the occurrence of overfitting in our model.\n",
    "* Cross-Validation\n",
    "* Training with more data\n",
    "* Removing features\n",
    "* Early stopping the training\n",
    "* Regularization\n",
    "* Ensembling\n"
   ]
  },
  {
   "cell_type": "code",
   "execution_count": null,
   "id": "2acdec8a-6a6e-471b-bcd6-67c831efe395",
   "metadata": {},
   "outputs": [],
   "source": [
    "Q3(Ans)\n",
    "Underfitting\n",
    "Underfitting occurs when our machine learning model is not able to capture the underlying trend of the data. \n",
    "To avoid the overfitting in the model, the fed of training data can be stopped at an early stage, due to which the model may not learn enough from the training data.\n",
    "As a result, it may fail to find the best fit of the dominant trend in the data.\n",
    "\n",
    "How to avoid underfitting:\n",
    "* By increasing the training time of the model.\n",
    "* By increasing the number of features."
   ]
  },
  {
   "cell_type": "code",
   "execution_count": null,
   "id": "3aa2ad5b-778c-4643-b190-120b1acc92ff",
   "metadata": {},
   "outputs": [],
   "source": [
    "Q4(Ans)\n",
    "What is bias?\n",
    "While making predictions, a difference occurs between prediction values made by the model and actual values/expected values, and this difference is known as bias errors or Errors due to bias.\n",
    "Low Bias: A low bias model will make fewer assumptions about the form of the target function.\n",
    "High Bias: A model with a high bias makes more assumptions, and the model becomes unable to capture the important features of our dataset. A high bias model also cannot perform well on new data.\n",
    "\n",
    "what is variance?\n",
    "variance tells that how much a random variable is different from its expected value.\n",
    "Low variance means there is a small variation in the prediction of the target function with changes in the training data set. \n",
    "At the same time, High variance shows a large variation in the prediction of the target function with changes in the training dataset.\n",
    "\n",
    "Low-Bias, Low-Variance:\n",
    "The combination of low bias and low variance shows an ideal machine learning model. However, it is not possible practically.\n",
    "\n",
    "Low-Bias, High-Variance: \n",
    "With low bias and high variance, model predictions are inconsistent and accurate on average. This case occurs when the model learns with a large number of parameters and hence leads to an overfitting\n",
    "\n",
    "High-Bias, Low-Variance:\n",
    "With High bias and low variance, predictions are consistent but inaccurate on average. This case occurs when a model does not learn well with the training dataset or uses few numbers of the parameter. It leads to underfitting problems in the model.\n",
    "\n",
    "High-Bias, High-Variance:\n",
    "With high bias and high variance, predictions are inconsistent and also inaccurate on average.\n",
    "\n",
    "If we decrease the variance, it will increase the bias. If we decrease the bias, it will increase the variance."
   ]
  },
  {
   "cell_type": "code",
   "execution_count": null,
   "id": "a84793cb-96cd-4b0f-9252-3cf135c7ac38",
   "metadata": {},
   "outputs": [],
   "source": [
    "Q5(Ans)\n",
    "*Bias and variance method is used for detecting overfitting and underfitting in machine learning models.\n",
    "Bias\n",
    "While making predictions, a difference occurs between prediction values made by the model and actual values/expected values, and this difference is known as bias errors or Errors due to bias.\n",
    "Low Bias: A low bias model will make fewer assumptions about the form of the target function.\n",
    "High Bias: A model with a high bias makes more assumptions, and the model becomes unable to capture the important features of our dataset. A high bias model also cannot perform well on new data.\n",
    "\n",
    "Variance\n",
    "variance tells that how much a random variable is different from its expected value.\n",
    "Low variance means there is a small variation in the prediction of the target function with changes in the training data set. \n",
    "At the same time, High variance shows a large variation in the prediction of the target function with changes in the training dataset.\n",
    "\n",
    "How can you determine whether your model is overfitting or underfitting?\n",
    "\n",
    "Low-Bias, High-Variance - OVERFITTING\n",
    "\n",
    "High-Bias, High-Variance -UNDERFITTING   "
   ]
  },
  {
   "cell_type": "code",
   "execution_count": null,
   "id": "595ceea1-8bd2-46a0-9d5c-0bed7c157b43",
   "metadata": {},
   "outputs": [],
   "source": [
    "Q6(Ans)\n",
    "Different between bias and variance\n",
    "Bias is the simplifying assumptions made by the model to make the target function easier to approximate. \n",
    "Variance is the amount that the estimate of the target function will change, given different training data\n",
    "\n",
    "Example of high bias and high variance are\n",
    "Linear Regression, Linear Discriminant Analysis and Logistic Regression\n",
    "\n",
    "How do they differ in terms of their performance?\n",
    "The term \"variance\" refers to the degree of change that may be expected in the estimation of the target function as a result of using multiple sets of training data. \n",
    "The disparity between the values that were predicted and the values that were actually observed is referred to as bias"
   ]
  },
  {
   "cell_type": "code",
   "execution_count": null,
   "id": "defbbf09-bf5a-43a3-9f81-08b48ba5e2a8",
   "metadata": {},
   "outputs": [],
   "source": [
    "Q7(Ans)Regularization-\n",
    "Regularization is one of the most important concepts of machine learning. It is a technique to prevent the model from overfitting by adding extra information to it.\n",
    "Sometimes the machine learning model performs well with the training data but does not perform well with the test data. \n",
    "it means the model is not able to predict the output when deals with unseen data by introducing noise in the output, and hence the model is called overfitted. \n",
    "This problem can be deal with the help of a regularization technique.This technique can be used in such a way that it will allow to maintain all variables or features in the model by reducing the magnitude of the variables. \n",
    "Hence, it maintains accuracy as well as a generalization of the model.\n",
    "\n",
    "There are mainly two types of regularization techniques, which are given below:\n",
    "\n",
    "Ridge Regression\n",
    "Ridge regression is mostly used to reduce the overfitting in the model, and it includes all the features present in the model. It reduces the complexity of the model by shrinking the coefficients.\n",
    "Lasso Regression\n",
    "Lasso regression helps to reduce the overfitting in the model as well as feature selection.\n"
   ]
  }
 ],
 "metadata": {
  "kernelspec": {
   "display_name": "Python 3 (ipykernel)",
   "language": "python",
   "name": "python3"
  },
  "language_info": {
   "codemirror_mode": {
    "name": "ipython",
    "version": 3
   },
   "file_extension": ".py",
   "mimetype": "text/x-python",
   "name": "python",
   "nbconvert_exporter": "python",
   "pygments_lexer": "ipython3",
   "version": "3.10.8"
  }
 },
 "nbformat": 4,
 "nbformat_minor": 5
}
